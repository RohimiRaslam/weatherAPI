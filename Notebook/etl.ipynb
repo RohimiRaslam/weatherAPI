{
 "cells": [
  {
   "cell_type": "code",
   "execution_count": 1,
   "metadata": {},
   "outputs": [],
   "source": [
    "import requests\n",
    "import pandas as pd\n",
    "from datetime import *\n",
    "# from airflow import *\n",
    "# from airflow.operators.python import PythonOperator\n",
    "# from airflow.utils.dates import days_ago\n",
    "# from airflow.hooks.base import BaseHook\n",
    "from snowflake.connector.pandas_tools import write_pandas\n",
    "import snowflake.connector\n",
    "\n"
   ]
  },
  {
   "cell_type": "code",
   "execution_count": 2,
   "metadata": {},
   "outputs": [],
   "source": [
    "url = 'https://api.weatherapi.com/v1/current.json?key=98078c8de2274791b03161315240410&q=London&aqi=yes'"
   ]
  },
  {
   "cell_type": "code",
   "execution_count": 9,
   "metadata": {},
   "outputs": [],
   "source": [
    "# function to retrieve raw data and extract location and temperature\n",
    "def get_data():\n",
    "    data = requests.get(url).json()\n",
    "    df = pd.json_normalize(data)\n",
    "\n",
    "    # location_name = data['location']['name']\n",
    "    # temp_c = data['current']['temp_c']\n",
    "\n",
    "    # df = pd.DataFrame({\n",
    "    #     'name': [location_name],\n",
    "    #     'temp_c': [temp_c]\n",
    "    #})\n",
    "    return df\n",
    "\n",
    "raw_data = get_data()"
   ]
  },
  {
   "cell_type": "code",
   "execution_count": 7,
   "metadata": {},
   "outputs": [],
   "source": [
    "def send_pandas_dataframe_to_snowflake():\n",
    "    user = 'PROJECTSMITH'          # Your Snowflake username\n",
    "    password = 'Testpassword95'  # Your Snowflake password\n",
    "    account = 'ISOCBXH-ER59203'    # Snowflake account name (e.g., 'account.region')\n",
    "    warehouse = 'COMPUTE_WH'  # The warehouse to use\n",
    "    database = 'WEATHERAPI'  # The database to connect to\n",
    "    schema = 'RAW'      # The schema to use\n",
    "\n",
    "    snowflake_connection = snowflake.connector.connect(\n",
    "    user='PROJECTSMITH',\n",
    "    password='Testpassword95',\n",
    "    account='ISOCBXH-ER59203',\n",
    "    warehouse='COMPUTE_WH',\n",
    "    database='WEATHERAPI',\n",
    "    schema='RAW',\n",
    "    role='ACCOUNTADMIN'\n",
    "    )\n",
    "\n",
    "    success, nchunks, nrows, _ = write_pandas(\n",
    "                conn = snowflake_connection,\n",
    "                df = raw_data,\n",
    "                table_name='temperature',  # The raw data table\n",
    "                database=database,\n",
    "                schema=schema,\n",
    "                auto_create_table=True,\n",
    "                overwrite=False  # Ensure we're appending, not overwriting\n",
    "                )"
   ]
  },
  {
   "cell_type": "code",
   "execution_count": null,
   "metadata": {},
   "outputs": [],
   "source": [
    "with DAG(\n",
    "    dag_id='weatherAPI',\n",
    "    default_args=default_args,\n",
    "    description='Ingest and store real time weather data',\n",
    "    schedule_interval=timedelta(minutes = 30),  # hald an hourly schedule\n",
    "    start_date=datetime(2024, 10, 8),  # Start date\n",
    "    # end_date=datetime(2024, 9, 20), # End date\n",
    "    catchup=False,  # Don't backfill missing runs\n",
    "    tags=['ETL']\n",
    ") as dag:\n",
    "\n",
    "    retrieve_data_task = PythonOperator(\n",
    "        task_id=\"retrieve API's data\",\n",
    "        python_callable=get_data,\n",
    "        provide_context=True\n",
    "    )\n",
    "\n",
    "    store_dataframe_task = PythonOperator(\n",
    "        task_id = 'send to snowflake',\n",
    "        python_callable = send_pandas_dataframe_to_snowflake,\n",
    "        provide_context = True\n",
    "    )\n",
    "\n"
   ]
  }
 ],
 "metadata": {
  "kernelspec": {
   "display_name": ".venv",
   "language": "python",
   "name": "python3"
  },
  "language_info": {
   "codemirror_mode": {
    "name": "ipython",
    "version": 3
   },
   "file_extension": ".py",
   "mimetype": "text/x-python",
   "name": "python",
   "nbconvert_exporter": "python",
   "pygments_lexer": "ipython3",
   "version": "3.12.1"
  }
 },
 "nbformat": 4,
 "nbformat_minor": 2
}
